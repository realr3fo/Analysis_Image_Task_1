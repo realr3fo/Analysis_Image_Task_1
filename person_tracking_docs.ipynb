{
 "cells": [
  {
   "cell_type": "code",
   "execution_count": 1,
   "metadata": {},
   "outputs": [],
   "source": [
    "import pandas as pd\n",
    "from person_tracking import find_person_from_beach_image\n",
    "import numpy as np"
   ]
  },
  {
   "cell_type": "code",
   "execution_count": 2,
   "metadata": {},
   "outputs": [
    {
     "data": {
      "text/html": [
       "<div>\n",
       "<style scoped>\n",
       "    .dataframe tbody tr th:only-of-type {\n",
       "        vertical-align: middle;\n",
       "    }\n",
       "\n",
       "    .dataframe tbody tr th {\n",
       "        vertical-align: top;\n",
       "    }\n",
       "\n",
       "    .dataframe thead th {\n",
       "        text-align: right;\n",
       "    }\n",
       "</style>\n",
       "<table border=\"1\" class=\"dataframe\">\n",
       "  <thead>\n",
       "    <tr style=\"text-align: right;\">\n",
       "      <th></th>\n",
       "      <th>label</th>\n",
       "      <th>x</th>\n",
       "      <th>y</th>\n",
       "      <th>file_name</th>\n",
       "      <th>w</th>\n",
       "      <th>h</th>\n",
       "    </tr>\n",
       "  </thead>\n",
       "  <tbody>\n",
       "    <tr>\n",
       "      <th>0</th>\n",
       "      <td>Person</td>\n",
       "      <td>123</td>\n",
       "      <td>592</td>\n",
       "      <td>1660028400.jpg</td>\n",
       "      <td>1920</td>\n",
       "      <td>1080</td>\n",
       "    </tr>\n",
       "    <tr>\n",
       "      <th>1</th>\n",
       "      <td>Person</td>\n",
       "      <td>569</td>\n",
       "      <td>580</td>\n",
       "      <td>1660028400.jpg</td>\n",
       "      <td>1920</td>\n",
       "      <td>1080</td>\n",
       "    </tr>\n",
       "    <tr>\n",
       "      <th>2</th>\n",
       "      <td>Person</td>\n",
       "      <td>644</td>\n",
       "      <td>547</td>\n",
       "      <td>1660028400.jpg</td>\n",
       "      <td>1920</td>\n",
       "      <td>1080</td>\n",
       "    </tr>\n",
       "    <tr>\n",
       "      <th>3</th>\n",
       "      <td>Person</td>\n",
       "      <td>654</td>\n",
       "      <td>554</td>\n",
       "      <td>1660028400.jpg</td>\n",
       "      <td>1920</td>\n",
       "      <td>1080</td>\n",
       "    </tr>\n",
       "    <tr>\n",
       "      <th>4</th>\n",
       "      <td>Person</td>\n",
       "      <td>664</td>\n",
       "      <td>536</td>\n",
       "      <td>1660028400.jpg</td>\n",
       "      <td>1920</td>\n",
       "      <td>1080</td>\n",
       "    </tr>\n",
       "    <tr>\n",
       "      <th>...</th>\n",
       "      <td>...</td>\n",
       "      <td>...</td>\n",
       "      <td>...</td>\n",
       "      <td>...</td>\n",
       "      <td>...</td>\n",
       "      <td>...</td>\n",
       "    </tr>\n",
       "    <tr>\n",
       "      <th>1542</th>\n",
       "      <td>Person</td>\n",
       "      <td>1341</td>\n",
       "      <td>598</td>\n",
       "      <td>1660060800.jpg</td>\n",
       "      <td>1920</td>\n",
       "      <td>1080</td>\n",
       "    </tr>\n",
       "    <tr>\n",
       "      <th>1543</th>\n",
       "      <td>Person</td>\n",
       "      <td>1558</td>\n",
       "      <td>417</td>\n",
       "      <td>1660060800.jpg</td>\n",
       "      <td>1920</td>\n",
       "      <td>1080</td>\n",
       "    </tr>\n",
       "    <tr>\n",
       "      <th>1544</th>\n",
       "      <td>Person</td>\n",
       "      <td>1534</td>\n",
       "      <td>475</td>\n",
       "      <td>1660060800.jpg</td>\n",
       "      <td>1920</td>\n",
       "      <td>1080</td>\n",
       "    </tr>\n",
       "    <tr>\n",
       "      <th>1545</th>\n",
       "      <td>Person</td>\n",
       "      <td>1677</td>\n",
       "      <td>488</td>\n",
       "      <td>1660060800.jpg</td>\n",
       "      <td>1920</td>\n",
       "      <td>1080</td>\n",
       "    </tr>\n",
       "    <tr>\n",
       "      <th>1546</th>\n",
       "      <td>Person</td>\n",
       "      <td>1032</td>\n",
       "      <td>541</td>\n",
       "      <td>1660060800.jpg</td>\n",
       "      <td>1920</td>\n",
       "      <td>1080</td>\n",
       "    </tr>\n",
       "  </tbody>\n",
       "</table>\n",
       "<p>1547 rows × 6 columns</p>\n",
       "</div>"
      ],
      "text/plain": [
       "       label     x    y       file_name     w     h\n",
       "0     Person   123  592  1660028400.jpg  1920  1080\n",
       "1     Person   569  580  1660028400.jpg  1920  1080\n",
       "2     Person   644  547  1660028400.jpg  1920  1080\n",
       "3     Person   654  554  1660028400.jpg  1920  1080\n",
       "4     Person   664  536  1660028400.jpg  1920  1080\n",
       "...      ...   ...  ...             ...   ...   ...\n",
       "1542  Person  1341  598  1660060800.jpg  1920  1080\n",
       "1543  Person  1558  417  1660060800.jpg  1920  1080\n",
       "1544  Person  1534  475  1660060800.jpg  1920  1080\n",
       "1545  Person  1677  488  1660060800.jpg  1920  1080\n",
       "1546  Person  1032  541  1660060800.jpg  1920  1080\n",
       "\n",
       "[1547 rows x 6 columns]"
      ]
     },
     "execution_count": 2,
     "metadata": {},
     "output_type": "execute_result"
    }
   ],
   "source": [
    "labels_path = \"labels_person.csv\"\n",
    "column_names = [\"label\", \"x\", \"y\", \"file_name\", \"w\", \"h\"]\n",
    "labels_df = pd.read_csv(labels_path, header=None, names=column_names)\n",
    "labels_df"
   ]
  },
  {
   "cell_type": "code",
   "execution_count": 3,
   "metadata": {},
   "outputs": [
    {
     "data": {
      "text/plain": [
       "array(['1660028400.jpg', '1660032000.jpg', '1660035600.jpg',\n",
       "       '1660039200.jpg', '1660042800.jpg', '1660046400.jpg',\n",
       "       '1660050000.jpg', '1660057200.jpg', '1660060800.jpg'], dtype=object)"
      ]
     },
     "execution_count": 3,
     "metadata": {},
     "output_type": "execute_result"
    }
   ],
   "source": [
    "file_names = labels_df[\"file_name\"].unique()\n",
    "file_names"
   ]
  },
  {
   "cell_type": "markdown",
   "metadata": {},
   "source": [
    "## Calculating accuracy for image level\n",
    "\n",
    "Mean Squared Error (MSE) using numpy will be used"
   ]
  },
  {
   "cell_type": "code",
   "execution_count": 4,
   "metadata": {},
   "outputs": [
    {
     "name": "stdout",
     "output_type": "stream",
     "text": [
      "Mean squared error value is 4327.666666666667\n"
     ]
    }
   ],
   "source": [
    "actual_number_of_person = []\n",
    "recognized_number_of_person = []\n",
    "for file_name in file_names:\n",
    "    current_file_df = labels_df.loc[labels_df[\"file_name\"] == file_name]\n",
    "    current_file_df_len = len(current_file_df)\n",
    "    current_file_path = \"./dataset/\" + file_name\n",
    "    boxes_of_recognized_person = find_person_from_beach_image(current_file_path, False)\n",
    "    boxes_of_recognized_person_len = len(boxes_of_recognized_person)\n",
    "    actual_number_of_person.append(current_file_df_len)\n",
    "    recognized_number_of_person.append(boxes_of_recognized_person_len)\n",
    "\n",
    "# Calculation of Mean Squared Error (MSE)\n",
    "mean_squared_error = np.square(np.subtract(actual_number_of_person,recognized_number_of_person)).mean()\n",
    "print(\"Mean squared error value is\", mean_squared_error)"
   ]
  },
  {
   "cell_type": "markdown",
   "metadata": {},
   "source": [
    "## Calculating person level accuracy\n",
    "\n",
    "Sensitivity and specificity will be used taking into account the distance between person coordinate and the center of the boundary box coordinate"
   ]
  },
  {
   "cell_type": "code",
   "execution_count": 20,
   "metadata": {},
   "outputs": [
    {
     "name": "stdout",
     "output_type": "stream",
     "text": [
      "Recall 50.21\n",
      "Precision 35.03\n",
      "CSI value 20.56\n"
     ]
    }
   ],
   "source": [
    "recalls= []\n",
    "precisions = []\n",
    "csi_values = []\n",
    "for file_name in file_names:\n",
    "    current_file_df = labels_df.loc[labels_df[\"file_name\"] == file_name]\n",
    "    actual_number_of_person = len(current_file_df)\n",
    "    current_file_path = \"./dataset/\" + file_name\n",
    "    actual_x_coords = np.array(current_file_df[\"x\"][:])\n",
    "    actual_y_coords = np.array(current_file_df[\"y\"][:])\n",
    "    boxes_of_recognized_person = find_person_from_beach_image(current_file_path, False)\n",
    "    \n",
    "    true_positives = 0\n",
    "    total_boxes = len(boxes_of_recognized_person)\n",
    "    recognized_x_coords, recognized_y_coords = [], []\n",
    "    for box in boxes_of_recognized_person:\n",
    "        x, y, w, h = box[0], box[1], box[2], box[3]\n",
    "        recognized_x_coords.append(int(x + x + w)//2)\n",
    "        recognized_y_coords.append(int(y + y + h)//2)\n",
    "    for x,y in zip(actual_x_coords, actual_y_coords):\n",
    "        for rec_x, rec_y in zip(recognized_x_coords, recognized_y_coords):\n",
    "            x_diff = np.abs(rec_x - x)\n",
    "            y_diff = np.abs(rec_y - y)\n",
    "            if (x_diff <= 11) and (y_diff <= 11):\n",
    "                true_positives += 1\n",
    "                break\n",
    "    false_negatives = actual_number_of_person - true_positives\n",
    "    false_positives = total_boxes - true_positives\n",
    "    recall = np.round(true_positives/actual_number_of_person * 100, 2)\n",
    "    precision = np.round(true_positives/(true_positives + false_positives) * 100, 2)\n",
    "    csi_value = np.round(true_positives/(true_positives + false_negatives + false_positives) * 100, 2)\n",
    "    recalls.append(recall)\n",
    "    precisions.append(precision)\n",
    "    csi_values.append(csi_value)\n",
    "print(\"Recall\", np.mean(recall))\n",
    "print(\"Precision\", np.mean(precision))\n",
    "print(\"CSI value\", np.round(np.mean(csi_values), 2))"
   ]
  }
 ],
 "metadata": {
  "kernelspec": {
   "display_name": "Python 3.9.0 ('env': venv)",
   "language": "python",
   "name": "python3"
  },
  "language_info": {
   "codemirror_mode": {
    "name": "ipython",
    "version": 3
   },
   "file_extension": ".py",
   "mimetype": "text/x-python",
   "name": "python",
   "nbconvert_exporter": "python",
   "pygments_lexer": "ipython3",
   "version": "3.9.0"
  },
  "orig_nbformat": 4,
  "vscode": {
   "interpreter": {
    "hash": "d75a9bceaac0738f11217f01fdf6786216a616722204866435715cfc0d130518"
   }
  }
 },
 "nbformat": 4,
 "nbformat_minor": 2
}
